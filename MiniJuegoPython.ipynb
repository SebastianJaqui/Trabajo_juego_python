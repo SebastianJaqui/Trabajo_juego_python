{
 "cells": [
  {
   "cell_type": "markdown",
   "metadata": {},
   "source": [
    "# Confección de mini juego\n",
    "Desarrollo de un juego que consiste en; La maquina selecciona un numero aleatorio y el jugador deberá adivinar qué numero es el que salió, para ello tendrá la ayuda de algunas pistas.\n",
    "Como jugador, se cuentan determinadas oportunidades para resolver este puzzle. \n",
    "\n",
    "El juego finaliza de dos maneras\n",
    "1) Cuando el numero de oportunidades sin aciertos se agotan\n",
    "2) Si acertas el numero dentro del numero de oportunidades, aqui se considera ganador."
   ]
  },
  {
   "cell_type": "code",
   "execution_count": 15,
   "metadata": {},
   "outputs": [
    {
     "name": "stdout",
     "output_type": "stream",
     "text": [
      "Bienvenido! Dime, ¿como te llamas?\n"
     ]
    }
   ],
   "source": [
    "# Creamos numero aleatorios \n",
    "## Primero usamos import\n",
    "\n",
    "import random\n",
    "\n",
    "## Definimos el numero de intentos y el intervalo de numeros que podemos adivinar\n",
    "\n",
    "numero_intentos = 0\n",
    "numero_minimo = 1\n",
    "numero_maximo = 25\n",
    "\n",
    "# Hacemos los numeros aleatorios con el numero minimo y maximo\n",
    "\n",
    "numero = random.randint(numero_minimo, numero_maximo)\n",
    "\n",
    "\n",
    "# Dejamos que el usuario escriba su nombre o alias\n",
    "\n",
    "print (\"Bienvenido! Dime, ¿como te llamas?\")\n",
    "nombre_alias = input()\n",
    "\n",
    "# Damos inicio al juego con un enunciado divertido\n",
    "# Ademas le damos el intervalo de numeros a adivinar\n",
    "\n",
    "print(\"Querido \" + nombre_alias + \" estoy pensando en un numero entre \" + str(numero_minimo) + \" y \" + str(numero_maximo) + \" ¿Puedes adivinar cual es? vamos!... Yo te ayudo un poco\")\n",
    "\n",
    "## Aca limitamos el numero de intentos antes de perder el juego\n",
    "## Es decir que si el numero de intentos que llevamos es menor al escrito, se puede seguir jugando e intentado adivinar\n",
    "\n",
    "while numero_intentos < 5:\n",
    "    print(\"Adivina;\")\n",
    "    numero_adivinado = input()\n",
    "    numero_adivinado = int(numero_adivinado)\n",
    "\n",
    "\n",
    "    numero_intentos = numero_intentos + 1 \n",
    "\n",
    "\n",
    "## Ahora debemos comparar entre el numero adivinado y el numero obtenido por la maquina\n",
    "\n",
    "    if numero_adivinado < numero: \n",
    "        print(\"Tu numero es menor al que estoy pensando\")\n",
    "    if numero_adivinado > numero:\n",
    "        print(\"Tu numero es mayor, te pasaste!\")\n",
    "    if numero_adivinado == numero:\n",
    "        break \n",
    "\n",
    "# Ahora, debemos ver el mensaje cuando el jugar acertó y ganó el juego  \n",
    "\n",
    "if numero_adivinado == numero: \n",
    "    print(\"Felicidades \" + nombre_alias + \"!!! has acetado al numero en el intento \" + str(numero_intentos) + \", eres un ganador y tienes un buen instinto, ahora deberías ir a jugar un loto!\") \n",
    "\n",
    "\n",
    "# Al contrario que antes, ahora debemos definir un mensaje para cuando el jugador no fué capaz de acertar\n",
    "\n",
    "if numero_adivinado != numero: \n",
    "    print(\"Que lastima! has fallado... el numero que yo estaba pensando era \" + str(numero) + \" Más suerte para la próxima vez\")  \n",
    "\n",
    "\n",
    "\n",
    "\n",
    "\n",
    "\n"
   ]
  }
 ],
 "metadata": {
  "kernelspec": {
   "display_name": "Python 3.10.8 64-bit",
   "language": "python",
   "name": "python3"
  },
  "language_info": {
   "codemirror_mode": {
    "name": "ipython",
    "version": 3
   },
   "file_extension": ".py",
   "mimetype": "text/x-python",
   "name": "python",
   "nbconvert_exporter": "python",
   "pygments_lexer": "ipython3",
   "version": "3.10.8"
  },
  "orig_nbformat": 4,
  "vscode": {
   "interpreter": {
    "hash": "02069469e68caaa3813e90d7c59136430325d95d2ffadc0987111ca66563a60c"
   }
  }
 },
 "nbformat": 4,
 "nbformat_minor": 2
}
